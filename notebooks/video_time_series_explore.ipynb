{
 "cells": [
  {
   "cell_type": "code",
   "execution_count": null,
   "id": "98767f8b",
   "metadata": {},
   "outputs": [
    {
     "name": "stdout",
     "output_type": "stream",
     "text": [
      "MAE: 460910.24\n",
      "MAPE: 18.8887\n"
     ]
    }
   ],
   "source": [
    "# LARM Regression - Early Features Only\n",
    "# --------------------------------------\n",
    "# Goal: Predict final video views using ONLY features available in the first 24h.\n",
    "\n",
    "import pandas as pd\n",
    "import numpy as np\n",
    "import matplotlib.pyplot as plt\n",
    "import seaborn as sns\n",
    "from sklearn.model_selection import train_test_split\n",
    "from sklearn.linear_model import LinearRegression\n",
    "from sklearn.ensemble import RandomForestRegressor\n",
    "from sklearn.metrics import mean_absolute_error, mean_absolute_percentage_error\n",
    "from sklearn.preprocessing import StandardScaler\n",
    "\n",
    "# ## Load dataset\n",
    "file_path = \"../data/video_timeseries_data.csv\"\n",
    "df = pd.read_csv(file_path)\n",
    "\n",
    "# ## Drop known leakage columns (post-24h and duplicates of target)\n",
    "columns_to_drop = [\n",
    "    'views_48h', 'impressions_48h', 'likes_48h', 'comments_48h',\n",
    "    'views_72h', 'impressions_72h', 'likes_72h', 'comments_72h',\n",
    "    'views_96h', 'impressions_96h', 'likes_96h', 'comments_96h',\n",
    "    'views_120h', 'impressions_120h', 'likes_120h', 'comments_120h',\n",
    "    'views_144h', 'impressions_144h', 'likes_144h', 'comments_144h',\n",
    "    'views_168h', 'impressions_168h', 'likes_168h', 'comments_168h',\n",
    "    'views_672h', 'impressions_672h', 'likes_672h', 'comments_672h'\n",
    "]\n",
    "df = df.drop(columns=columns_to_drop)\n",
    "\n",
    "# ## Select early features (up to 24h) + metadata\n",
    "early_features = [\n",
    "    'video_length',\n",
    "    'views_1h', 'impressions_1h', 'likes_1h', 'comments_1h',\n",
    "    'views_3h', 'impressions_3h', 'likes_3h', 'comments_3h',\n",
    "    'views_6h', 'impressions_6h', 'likes_6h', 'comments_6h',\n",
    "    'views_12h', 'impressions_12h', 'likes_12h', 'comments_12h',\n",
    "    'views_24h', 'impressions_24h', 'likes_24h', 'comments_24h'\n",
    "]\n",
    "\n",
    "# Target variable (same as views_672h in original):\n",
    "y = df['views_final']\n",
    "X = df[early_features].copy()\n",
    "\n",
    "# ## Optional: Feature Engineering (engagement rate)\n",
    "for h in ['1h','3h','6h','12h','24h']:\n",
    "    X[f'engagement_rate_{h}'] = (df[f'likes_{h}'] + df[f'comments_{h}']) / (df[f'views_{h}'] + 1)\n",
    "\n",
    "# ## Train/test split\n",
    "X_train, X_test, y_train, y_test = train_test_split(X, y, test_size=0.2, random_state=42)\n",
    "\n",
    "# ## Scale features\n",
    "scaler = StandardScaler()\n",
    "X_train_scaled = scaler.fit_transform(X_train)\n",
    "X_test_scaled = scaler.transform(X_test)\n",
    "\n",
    "# ## Train model\n",
    "lr = LinearRegression()\n",
    "lr.fit(X_train_scaled, y_train)\n",
    "y_pred = lr.predict(X_test_scaled)\n",
    "\n",
    "mae = mean_absolute_error(y_test, y_pred)\n",
    "mape = mean_absolute_percentage_error(y_test, y_pred)\n",
    "\n",
    "print(f\"MAE: {mae:.2f}\")\n",
    "print(f\"MAPE: {mape:.4f}\")"
   ]
  }
 ],
 "metadata": {
  "kernelspec": {
   "display_name": ".venv",
   "language": "python",
   "name": "python3"
  },
  "language_info": {
   "codemirror_mode": {
    "name": "ipython",
    "version": 3
   },
   "file_extension": ".py",
   "mimetype": "text/x-python",
   "name": "python",
   "nbconvert_exporter": "python",
   "pygments_lexer": "ipython3",
   "version": "3.10.6"
  }
 },
 "nbformat": 4,
 "nbformat_minor": 5
}
