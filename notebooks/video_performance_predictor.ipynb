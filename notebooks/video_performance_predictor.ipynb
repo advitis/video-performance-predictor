{
 "cells": [
  {
   "cell_type": "markdown",
   "id": "5de0162b",
   "metadata": {},
   "source": [
    "# Predicting Lifetime Video Performance from Early Engagement\n",
    "\n",
    "This project explores how early engagement signals (e.g. views, likes, comments, impressions) can help predict a video’s lifetime performance — using a simplified approach.\n",
    "\n",
    "## Business Goal\n",
    "Given early video engagement data (up to 5,000 impressions), predict **total lifetime views** to guide:\n",
    "- Marketing and platform teams often need to know **early** which videos are likely to succeed.\n",
    "- Predicting long-term view growth helps in **budget allocation**, **resharing strategy**, and **content prioritization**.\n",
    "- The modeling approach balances **predictive accuracy**, **interpretability**, and **business application**.\n",
    "\n",
    "The notebook showcases a **full data-to-insight pipeline** that is business-aware — intended for data practitioners, content strategists, and decision-makers evaluating video performance."
   ]
  },
  {
   "cell_type": "code",
   "execution_count": 12,
   "id": "0ab96214",
   "metadata": {},
   "outputs": [],
   "source": [
    "# Core data and modeling libraries\n",
    "import pandas as pd\n",
    "import numpy as np\n",
    "import matplotlib.pyplot as plt\n",
    "import seaborn as sns\n",
    "\n",
    "# Modeling and preprocessing\n",
    "from sklearn.linear_model import LinearRegression\n",
    "from sklearn.ensemble import RandomForestRegressor\n",
    "from xgboost import XGBRegressor\n",
    "from sklearn.preprocessing import RobustScaler\n",
    "from sklearn.pipeline import Pipeline\n",
    "from sklearn.metrics import mean_absolute_error, mean_absolute_percentage_error\n",
    "from sklearn.model_selection import cross_val_predict\n",
    "\n",
    "sns.set(style=\"whitegrid\")"
   ]
  },
  {
   "cell_type": "markdown",
   "id": "b8cbf019",
   "metadata": {},
   "source": [
    "## Step 1: Load and Prepare Dataset\n",
    "\n",
    "We start by loading a synthetic video engagement dataset that simulates real platform data. Since we are modeling business-relevant performance, we apply a minimum final view threshold (1,000 views) to focus on meaningful samples."
   ]
  },
  {
   "cell_type": "code",
   "execution_count": 13,
   "id": "1934f569",
   "metadata": {},
   "outputs": [
    {
     "name": "stdout",
     "output_type": "stream",
     "text": [
      "Original dataset shape: (7639, 9)\n",
      "Dataset shape after filtering (views_final >= 1000): (5100, 9)\n"
     ]
    }
   ],
   "source": [
    "# Load dataset\n",
    "df = pd.read_csv(\"../data/Video_Timeseries_synthetic_Dataset.csv\").dropna().reset_index(drop=True)\n",
    "print(f\"Original dataset shape: {df.shape}\")\n",
    "\n",
    "# Filter: meaningful content only (views ≥ 1000)\n",
    "df = df[df['views_final'] >= 1000].reset_index(drop=True)\n",
    "print(f\"Dataset shape after filtering (views_final >= 1000): {df.shape}\")"
   ]
  },
  {
   "cell_type": "markdown",
   "id": "62ca7532",
   "metadata": {},
   "source": [
    "The dataset includes early engagement data up to 5,000 impressions, and a final view count which serves as our target variable. Model trained on 5,100 videos with ≥1,000 final views.\n",
    "\n",
    "We now take a quick look at key dataset statistics."
   ]
  },
  {
   "cell_type": "code",
   "execution_count": 14,
   "id": "ede66889",
   "metadata": {},
   "outputs": [
    {
     "name": "stdout",
     "output_type": "stream",
     "text": [
      "<class 'pandas.core.frame.DataFrame'>\n",
      "RangeIndex: 5100 entries, 0 to 5099\n",
      "Data columns (total 9 columns):\n",
      " #   Column          Non-Null Count  Dtype\n",
      "---  ------          --------------  -----\n",
      " 0   views_final     5100 non-null   int64\n",
      " 1   views3s_1k      5100 non-null   int64\n",
      " 2   impressions_1k  5100 non-null   int64\n",
      " 3   like_1k         5100 non-null   int64\n",
      " 4   comments_1k     5100 non-null   int64\n",
      " 5   views3s_5k      5100 non-null   int64\n",
      " 6   impressions_5k  5100 non-null   int64\n",
      " 7   like_5k         5100 non-null   int64\n",
      " 8   comments_5k     5100 non-null   int64\n",
      "dtypes: int64(9)\n",
      "memory usage: 358.7 KB\n"
     ]
    }
   ],
   "source": [
    "# View dataset structure\n",
    "df.info()"
   ]
  },
  {
   "cell_type": "markdown",
   "id": "f50c46fc",
   "metadata": {},
   "source": [
    "## Step 2: Target Variable Distribution: Understanding Final Views\n",
    "\n",
    "Before modeling, it's important to understand the range and skew of our target variable (`views_final`):\n",
    "\n",
    "- Most videos perform modestly.\n",
    "- A small number reach viral scale.\n",
    "- This extreme skew makes modeling challenging.\n",
    "\n",
    "Below are the key percentiles and summary stats:"
   ]
  },
  {
   "cell_type": "code",
   "execution_count": 15,
   "id": "c3b71234",
   "metadata": {},
   "outputs": [
    {
     "data": {
      "image/png": "[encoded data removed]",
      "text/plain": [
       "<Figure size 800x500 with 1 Axes>"
      ]
     },
     "metadata": {},
     "output_type": "display_data"
    }
   ],
   "source": [
    "plt.figure(figsize=(8,5))\n",
    "sns.histplot(df['views_final'], bins=100, log_scale=True)\n",
    "plt.title(\"Distribution of Final Views (Log Scale)\")\n",
    "plt.xlabel(\"views_final\")\n",
    "plt.ylabel(\"Frequency\")\n",
    "plt.show()"
   ]
  },
  {
   "cell_type": "markdown",
   "id": "efcb28ab",
   "metadata": {},
   "source": [
    "## Step 3: Normalize Metrics and Engineer Ratios\n",
    "\n",
    "Raw engagement counts (likes, views, comments) are hard to compare across videos with different impressions. We normalize them relative to impressions and views to get metrics like:\n",
    "\n",
    "- Open rate: How likely viewers are to watch (views / impressions)\n",
    "- Engagement rate: How likely viewers are to like (likes / views)\n",
    "- Comment ratio: How active the viewers are (comments / likes)\n",
    "\n",
    "These tell us more about how audiences interact with content relative to exposure."
   ]
  },
  {
   "cell_type": "code",
   "execution_count": 16,
   "id": "dff5a050",
   "metadata": {},
   "outputs": [],
   "source": [
    "# Normalize key engagement metrics\n",
    "df['norm_views3s_1k'] = df['views3s_1k'] / 1000\n",
    "df['norm_like_1k'] = df['like_1k'] / 1000\n",
    "df['norm_comments_1k'] = df['comments_1k'] / 1000\n",
    "df['norm_views3s_5k'] = df['views3s_5k'] / 5000\n",
    "df['norm_like_5k'] = df['like_5k'] / 5000\n",
    "df['norm_comments_5k'] = df['comments_5k'] / 5000\n",
    "\n",
    "# Engineer engagement ratios\n",
    "epsilon = 1e-5\n",
    "df['openrate3s_1k'] = df['views3s_1k'] / (df['impressions_1k'] + epsilon)\n",
    "df['openrate3s_5k'] = df['views3s_5k'] / (df['impressions_5k'] + epsilon)\n",
    "df['engrate_1k'] = df['like_1k'] / (df['views3s_1k'] + epsilon)\n",
    "df['engrate_5k'] = df['like_5k'] / (df['views3s_5k'] + epsilon)\n",
    "df['commentratio_1k'] = df['comments_1k'] / (df['like_1k'] + epsilon)\n",
    "df['commentratio_5k'] = df['comments_5k'] / (df['like_5k'] + epsilon)"
   ]
  },
  {
   "cell_type": "markdown",
   "id": "ba529c03",
   "metadata": {},
   "source": [
    "## Step 4: Feature Preparation for Modeling\n",
    "\n",
    "To ensure robustness against outliers and uneven scales, we scale all features using `RobustScaler`. This is especially suited to engagement data, which can be skewed.\n",
    "\n",
    "We also prepare a modeling-ready feature matrix and define our target: `views_final`."
   ]
  },
  {
   "cell_type": "code",
   "execution_count": 17,
   "id": "1d145635",
   "metadata": {},
   "outputs": [],
   "source": [
    "# Combine selected features\n",
    "combined_features = [\n",
    "    'norm_views3s_1k', 'norm_like_1k', 'norm_comments_1k',\n",
    "    'norm_views3s_5k', 'norm_like_5k', 'norm_comments_5k',\n",
    "    'openrate3s_1k', 'openrate3s_5k',\n",
    "    'engrate_1k', 'engrate_5k',\n",
    "    'commentratio_1k', 'commentratio_5k'\n",
    "]\n",
    "\n",
    "X = df[combined_features]\n",
    "scaler = RobustScaler()\n",
    "X_scaled = scaler.fit_transform(X)\n",
    "\n",
    "# Target: log-transformed views_final\n",
    "df['log_views_final'] = np.log1p(df['views_final'])\n",
    "y = df['log_views_final']"
   ]
  },
  {
   "cell_type": "markdown",
   "id": "2810b0f9",
   "metadata": {},
   "source": [
    "## Step 5: Model Evaluation\n",
    "\n",
    "We compare three model types using 3-fold cross-validation:\n",
    "- `LinearRegression` as a baseline\n",
    "- `RandomForestRegressor` for non-linear modeling\n",
    "- `XGBRegressor` for gradient-boosted performance\n",
    "\n",
    "We use **mean absolute error (MAE)** and **mean absolute percentage error (MAPE)** as business-relevant metrics — they directly reflect how much we over/underpredict video performance in terms of views."
   ]
  },
  {
   "cell_type": "code",
   "execution_count": 18,
   "id": "2773a658",
   "metadata": {},
   "outputs": [
    {
     "data": {
      "text/html": [
       "<div>\n",
       "<style scoped>\n",
       "    .dataframe tbody tr th:only-of-type {\n",
       "        vertical-align: middle;\n",
       "    }\n",
       "\n",
       "    .dataframe tbody tr th {\n",
       "        vertical-align: top;\n",
       "    }\n",
       "\n",
       "    .dataframe thead th {\n",
       "        text-align: right;\n",
       "    }\n",
       "</style>\n",
       "<table border=\"1\" class=\"dataframe\">\n",
       "  <thead>\n",
       "    <tr style=\"text-align: right;\">\n",
       "      <th></th>\n",
       "      <th>Model</th>\n",
       "      <th>MAE</th>\n",
       "      <th>MAPE (%)</th>\n",
       "    </tr>\n",
       "  </thead>\n",
       "  <tbody>\n",
       "    <tr>\n",
       "      <th>0</th>\n",
       "      <td>LinearRegression</td>\n",
       "      <td>96944.33</td>\n",
       "      <td>43.95</td>\n",
       "    </tr>\n",
       "    <tr>\n",
       "      <th>1</th>\n",
       "      <td>RandomForest</td>\n",
       "      <td>96672.25</td>\n",
       "      <td>36.77</td>\n",
       "    </tr>\n",
       "    <tr>\n",
       "      <th>2</th>\n",
       "      <td>XGBoost</td>\n",
       "      <td>96707.29</td>\n",
       "      <td>38.34</td>\n",
       "    </tr>\n",
       "  </tbody>\n",
       "</table>\n",
       "</div>"
      ],
      "text/plain": [
       "              Model       MAE  MAPE (%)\n",
       "0  LinearRegression  96944.33     43.95\n",
       "1      RandomForest  96672.25     36.77\n",
       "2           XGBoost  96707.29     38.34"
      ]
     },
     "metadata": {},
     "output_type": "display_data"
    }
   ],
   "source": [
    "results = []\n",
    "\n",
    "models = [\n",
    "    ('LinearRegression', LinearRegression()),\n",
    "    ('RandomForest', RandomForestRegressor(n_estimators=50, random_state=42)),\n",
    "    ('XGBoost', XGBRegressor(n_estimators=50, objective='reg:squarederror', random_state=42))\n",
    "]\n",
    "\n",
    "for name, model in models:\n",
    "    pipeline = Pipeline([('model', model)])\n",
    "\n",
    "    # Predict via cross-validation (no leakage)\n",
    "    y_pred_log = cross_val_predict(pipeline, X_scaled, y, cv=3)\n",
    "    y_pred = np.expm1(y_pred_log)\n",
    "\n",
    "    mae = mean_absolute_error(df['views_final'], y_pred)\n",
    "    mape = mean_absolute_percentage_error(df['views_final'], y_pred) * 100\n",
    "\n",
    "    results.append({\n",
    "        'Model': name,\n",
    "        'MAE': round(mae, 2),\n",
    "        'MAPE (%)': round(mape, 2)\n",
    "    })\n",
    "\n",
    "# Display as DataFrame\n",
    "results_df = pd.DataFrame(results)\n",
    "display(results_df)"
   ]
  },
  {
   "cell_type": "markdown",
   "id": "4f8e4866",
   "metadata": {},
   "source": [
    "## Final Thoughts\n",
    "\n",
    "We built a model to predict lifetime video performance using only early engagement metrics from the first 5,000 impressions.\n",
    "\n",
    "With this limited feature set, the Random Forest model achieved:\n",
    "- MAE ≈ 96K\n",
    "- MAPE ≈ 36% (3-fold CV)\n",
    "\n",
    "### What Could Improve the Model\n",
    "\n",
    "To reduce error further, the following types of data would be helpful:\n",
    "- Video metadata (duration, format)\n",
    "- Content signals (category, keywords, thumbnail quality)\n",
    "- Audience info (watch time, demographics)\n",
    "- Creator history (past video stats, audience size)\n",
    "- Timing/context (day, hour, promotion status)\n",
    "\n",
    "### Business Applications\n",
    "\n",
    "This model can support:\n",
    "- Early video prioritization\n",
    "- Smarter promotion and reshare decisions\n",
    "- Creator content analysis\n",
    "\n",
    "Even with minimal input, the model offers directional guidance for content and marketing teams"
   ]
  }
 ],
 "metadata": {
  "kernelspec": {
   "display_name": "Python (.venv)",
   "language": "python",
   "name": "video-env"
  },
  "language_info": {
   "codemirror_mode": {
    "name": "ipython",
    "version": 3
   },
   "file_extension": ".py",
   "mimetype": "text/x-python",
   "name": "python",
   "nbconvert_exporter": "python",
   "pygments_lexer": "ipython3",
   "version": "3.10.6"
  }
 },
 "nbformat": 4,
 "nbformat_minor": 5
}
